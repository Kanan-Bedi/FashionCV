{
  "nbformat": 4,
  "nbformat_minor": 0,
  "metadata": {
    "colab": {
      "provenance": [],
      "include_colab_link": true
    },
    "kernelspec": {
      "name": "python3",
      "display_name": "Python 3"
    },
    "language_info": {
      "name": "python"
    }
  },
  "cells": [
    {
      "cell_type": "markdown",
      "metadata": {
        "id": "view-in-github",
        "colab_type": "text"
      },
      "source": [
        "<a href=\"https://colab.research.google.com/github/Kanan-Bedi/FashionCV/blob/main/image_preprocessing.ipynb\" target=\"_parent\"><img src=\"https://colab.research.google.com/assets/colab-badge.svg\" alt=\"Open In Colab\"/></a>"
      ]
    },
    {
      "cell_type": "code",
      "execution_count": null,
      "metadata": {
        "colab": {
          "base_uri": "https://localhost:8080/"
        },
        "id": "g2-aJsEbWJiF",
        "outputId": "10e24ecd-d43b-405e-c309-3a0feede83e9"
      },
      "outputs": [
        {
          "output_type": "stream",
          "name": "stdout",
          "text": [
            "Background removed images saved in output folder.\n"
          ]
        }
      ],
      "source": [
        "import cv2\n",
        "import numpy as np\n",
        "import os\n",
        "\n",
        "# Read images from input folder\n",
        "input_folder = '/content/drive/MyDrive/Fashion 166'\n",
        "output_folder = '/content/drive/MyDrive/Output_cloths'\n",
        "\n",
        "# Check if output folder exists, if not, create it\n",
        "if not os.path.exists(output_folder):\n",
        "    os.makedirs(output_folder)\n",
        "\n",
        "# List files in the input folder\n",
        "files = os.listdir(input_folder)\n",
        "\n",
        "# Loop through each file in the input folder\n",
        "for file in files:\n",
        "    # Read image\n",
        "    img = cv2.imread(os.path.join(input_folder, file))\n",
        "\n",
        "    # Check if the image is successfully loaded\n",
        "    if img is None:\n",
        "        print(\"Error: Image\", file, \"not loaded.\")\n",
        "        continue\n",
        "\n",
        "    # Resize the image for displaying\n",
        "    scale_percent = 50  # percent of original size\n",
        "    width = int(img.shape[1] * scale_percent / 100)\n",
        "    height = int(img.shape[0] * scale_percent / 100)\n",
        "    dim = (width, height)\n",
        "    img_resized = cv2.resize(img, dim, interpolation=cv2.INTER_AREA)\n",
        "\n",
        "    # threshold on white\n",
        "    # Define lower and upper limits\n",
        "    lower = np.array([200, 200, 200])\n",
        "    upper = np.array([255, 255, 255])\n",
        "\n",
        "    # Create mask to only select white\n",
        "    thresh = cv2.inRange(img, lower, upper)\n",
        "\n",
        "    # apply morphology\n",
        "    kernel = cv2.getStructuringElement(cv2.MORPH_ELLIPSE, (20, 20))\n",
        "    morph = cv2.morphologyEx(thresh, cv2.MORPH_CLOSE, kernel)\n",
        "\n",
        "    # invert morph image\n",
        "    mask = 255 - morph\n",
        "\n",
        "    # apply mask to image\n",
        "    result = cv2.bitwise_and(img, img, mask=mask)\n",
        "\n",
        "    # save results\n",
        "    cv2.imwrite(os.path.join(output_folder, 'cloth_result_' + file), result)\n",
        "\n",
        "print(\"Background removed images saved in output folder.\")\n",
        "\n"
      ]
    },
    {
      "cell_type": "code",
      "source": [
        "import cv2\n",
        "import os\n",
        "\n",
        "# Define input and output folders\n",
        "input_folder = '/content/drive/MyDrive/Output_cloths'\n",
        "output_folder = '/content/drive/MyDrive/Enhanced_cloths'\n",
        "\n",
        "# Check if output folder exists, if not, create it\n",
        "if not os.path.exists(output_folder):\n",
        "    os.makedirs(output_folder)\n",
        "\n",
        "# List files in the input folder\n",
        "files = os.listdir(input_folder)\n",
        "\n",
        "# Loop through each file in the input folder\n",
        "for file in files:\n",
        "    # Read background removed image\n",
        "    img = cv2.imread(os.path.join(input_folder, file))\n",
        "\n",
        "    # Check if the image is successfully loaded\n",
        "    if img is None:\n",
        "        print(\"Error: Image\", file, \"not loaded.\")\n",
        "        continue\n",
        "\n",
        "    # Convert image to LAB color space\n",
        "    lab_img = cv2.cvtColor(img, cv2.COLOR_BGR2LAB)\n",
        "\n",
        "    # Split LAB image into L, A, and B channels\n",
        "    l_channel, a_channel, b_channel = cv2.split(lab_img)\n",
        "\n",
        "    # Apply histogram equalization to the L channel\n",
        "    l_channel_eq = cv2.equalizeHist(l_channel)\n",
        "\n",
        "    # Merge the equalized L channel with the original A and B channels\n",
        "    enhanced_lab_img = cv2.merge((l_channel_eq, a_channel, b_channel))\n",
        "\n",
        "    # Convert enhanced LAB image back to BGR color space\n",
        "    enhanced_img = cv2.cvtColor(enhanced_lab_img, cv2.COLOR_LAB2BGR)\n",
        "\n",
        "    # Save the enhanced image\n",
        "    cv2.imwrite(os.path.join(output_folder, 'enhanced_' + file), enhanced_img)\n",
        "\n",
        "print(\"Enhanced images saved in output folder.\")\n"
      ],
      "metadata": {
        "colab": {
          "base_uri": "https://localhost:8080/"
        },
        "id": "S4jPlYVoZ-Kf",
        "outputId": "1be96644-9226-456a-84c5-9d1b4d4b8ec6"
      },
      "execution_count": null,
      "outputs": [
        {
          "output_type": "stream",
          "name": "stdout",
          "text": [
            "Enhanced images saved in output folder.\n"
          ]
        }
      ]
    },
    {
      "cell_type": "code",
      "source": [
        "import cv2\n",
        "import numpy as np\n",
        "import os\n",
        "\n",
        "# Define input and output folders\n",
        "input_folder = '/content/drive/MyDrive/Output_cloths'\n",
        "segmentation_output_folder = '/content/drive/MyDrive/segmented_cloths'\n",
        "edge_output_folder = '/content/drive/MyDrive/edge_detection_cloths'\n",
        "\n",
        "# Check if output folders exist, if not, create them\n",
        "if not os.path.exists(segmentation_output_folder):\n",
        "    os.makedirs(segmentation_output_folder)\n",
        "if not os.path.exists(edge_output_folder):\n",
        "    os.makedirs(edge_output_folder)\n",
        "\n",
        "# List files in the input folder\n",
        "files = os.listdir(input_folder)\n",
        "\n",
        "# Loop through each file in the input folder\n",
        "for file in files:\n",
        "    # Read background removed image\n",
        "    img = cv2.imread(os.path.join(input_folder, file))\n",
        "\n",
        "    # Check if the image is successfully loaded\n",
        "    if img is None:\n",
        "        print(\"Error: Image\", file, \"not loaded.\")\n",
        "        continue\n",
        "\n",
        "    # Perform image segmentation\n",
        "    # Example: You can use a clustering algorithm like k-means or a segmentation method like GrabCut\n",
        "    # Here, we'll simply threshold the image to separate foreground from background\n",
        "    gray = cv2.cvtColor(img, cv2.COLOR_BGR2GRAY)\n",
        "    _, thresh = cv2.threshold(gray, 1, 255, cv2.THRESH_BINARY)\n",
        "\n",
        "    # Perform edge detection\n",
        "    edges = cv2.Canny(gray, 50, 150)\n",
        "\n",
        "    # Save segmented and edge-detected images\n",
        "    cv2.imwrite(os.path.join(segmentation_output_folder, 'segmented_' + file), thresh)\n",
        "    cv2.imwrite(os.path.join(edge_output_folder, 'edge_' + file), edges)\n",
        "\n",
        "print(\"Segmented and edge-detected images saved in output folders.\")\n"
      ],
      "metadata": {
        "colab": {
          "base_uri": "https://localhost:8080/"
        },
        "id": "ypryv6x8dyjd",
        "outputId": "61e7a26a-a260-4f54-e05d-9f3af76f5448"
      },
      "execution_count": null,
      "outputs": [
        {
          "output_type": "stream",
          "name": "stdout",
          "text": [
            "Segmented and edge-detected images saved in output folders.\n"
          ]
        }
      ]
    },
    {
      "cell_type": "code",
      "source": [
        "from google.colab import drive\n",
        "drive.mount('/content/drive')"
      ],
      "metadata": {
        "colab": {
          "base_uri": "https://localhost:8080/"
        },
        "id": "5ZooHEPIWNbz",
        "outputId": "c30be417-b19c-4c37-f26a-42b7daac1a04"
      },
      "execution_count": null,
      "outputs": [
        {
          "output_type": "stream",
          "name": "stdout",
          "text": [
            "Mounted at /content/drive\n"
          ]
        }
      ]
    }
  ]
}